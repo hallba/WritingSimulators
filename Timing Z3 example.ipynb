{
 "cells": [
  {
   "cell_type": "markdown",
   "metadata": {},
   "source": [
    "# Ordering and simulations (bounded model checking)\n",
    "\n",
    "In each of the examples so far we have looked at systems that are effectively static in time. We\n",
    "don't consider how entities change over time, just their relationships with one another. This is \n",
    "useful in some situations but, particularly in biology, we want to know how systems develop over \n",
    "time. Here we will start to look at some examples where we describe this type of system.\n",
    "\n",
    "This can be referred to as bounded model checking; we look for solutions up to a bound (a number\n",
    "of steps taken). Our solutions are therefore restricted to the bound; sometimes this is fine, but \n",
    "in others it can be a limitation. Increasing the bound makes the solutions slower and harder to \n",
    "find as the size of state space increases. In a worst case scenario an increase of a single step\n",
    "may transform the problem from one that can be solved in ms to one that takes years! There may \n",
    "therefore be a largest theoretical bound that is greater than the bound that can practically be \n",
    "tested, and you should be aware that the results may not hold for larger, untestable bounds.\n",
    "\n",
    "## Getting started\n",
    "\n",
    "In this section we will be using Z3 as a library. To start we will need to download the files if they are not already available. These first cells download Z3 as a zip, extract it, and load it into memory. We then reference the extracted file and open it as a module.\n",
    "\n",
    "** If the first cell does not run, manually download z3 from the link for your operating system and unzip it to a folder with the notebooks called \"z3\" **"
   ]
  },
  {
   "cell_type": "code",
   "execution_count": null,
   "metadata": {
    "collapsed": true
   },
   "outputs": [],
   "source": [
    "#r \"System.IO.Compression.FileSystem.dll\"\n",
    "\n",
    "open System\n",
    "open System.IO\n",
    "open System.IO.Compression\n",
    "open System.Net\n",
    "//Specify Tls version to avoid cryptic connection errors\n",
    "System.Net.ServicePointManager.SecurityProtocol <- SecurityProtocolType.Tls12 ||| SecurityProtocolType.Tls11 \n",
    " \n",
    "let wc = new WebClient()\n",
    "\n",
    "type OS =\n",
    "        | OSX            \n",
    "        | Windows\n",
    "        | Linux\n",
    "\n",
    "let getOS = \n",
    "        match int Environment.OSVersion.Platform with\n",
    "        | 4 | 128 -> Linux\n",
    "        | 6       -> OSX\n",
    "        | _       -> Windows\n",
    "\n",
    "if  true <> System.IO.File.Exists(\"z3/LICENSE.txt\") then \n",
    "    match getOS with\n",
    "    | Linux ->  wc.DownloadFile(\"https://github.com/Z3Prover/z3/releases/download/z3-4.6.0/z3-4.6.0-x64-ubuntu-16.04.zip\", @\"z3.zip\")\n",
    "                //This will take a while\n",
    "                ZipFile.ExtractToDirectory(\"z3.zip\", \".\") \n",
    "                System.IO.Directory.Move(\"z3-4.6.0-x64-ubuntu-16.04\",\"z3\")\n",
    "    | Windows ->wc.DownloadFile(\"https://github.com/Z3Prover/z3/releases/download/z3-4.6.0/z3-4.6.0-x64-win.zip\", @\"z3.zip\")\n",
    "                //This will take a while\n",
    "                ZipFile.ExtractToDirectory(\"z3.zip\", \".\") \n",
    "                System.IO.Directory.Move(\"z3-4.6.0-x64-win\",\"z3\")\n",
    "\n",
    "    | _ -> ()"
   ]
  },
  {
   "cell_type": "code",
   "execution_count": null,
   "metadata": {
    "collapsed": true
   },
   "outputs": [],
   "source": [
    "open System.Net\n",
    " = SecurityProtocolType.Tls11| SecurityProtocolType.Tls12;"
   ]
  },
  {
   "cell_type": "code",
   "execution_count": null,
   "metadata": {
    "collapsed": true
   },
   "outputs": [],
   "source": [
    "#r \"z3/bin/Microsoft.Z3.dll\""
   ]
  },
  {
   "cell_type": "code",
   "execution_count": null,
   "metadata": {
    "collapsed": true
   },
   "outputs": [],
   "source": [
    "open Microsoft.Z3"
   ]
  },
  {
   "cell_type": "markdown",
   "metadata": {},
   "source": [
    "## Die Hard with a Vengance\n",
    "\n",
    "You have a 3 litre jug and a 5 litre jug, and need to measure 4 litres of water. You can empty \n",
    "the jugs onto the ground and into each other, and you can fill them from each other and the tap. \n",
    "Without measuring the volumes explicitly, how do you get 4 litres?\n",
    "\n",
    "Now we have variables that change with time. The way we create them is not different from before\n",
    "but we need to consider the initial state and the relationships between timepoints. \n",
    "\n",
    "In previous examples where variables did not change we created constants with the name of the \n",
    "variable; now we will add the time explictly to the variable name. So in the initial case we \n",
    "will have just two variables \"Five-0\" and \"Three-0\". Consistant naming is important so that we \n",
    "can encode the behaviour in a loop; other times will be written as \"Five-%t\" whtere %t is the time."
   ]
  },
  {
   "cell_type": "code",
   "execution_count": null,
   "metadata": {},
   "outputs": [],
   "source": [
    "let assertUpdate (ctx:Context) (s:Solver) t t' = \n",
    "    //Convienience integers\n",
    "    let zZero = ctx.MkInt(0)\n",
    "    let zTwo = ctx.MkInt(2)\n",
    "    let zFour = ctx.MkInt(4)\n",
    "    let zFive = ctx.MkInt(5)\n",
    "    let zThree = ctx.MkInt(3)\n",
    "\n",
    "    //Create the variables\n",
    "    let fiveState = ctx.MkIntConst(sprintf \"Five-%d\" t)\n",
    "    let threeState = ctx.MkIntConst(sprintf \"Three-%d\" t)\n",
    "    let fiveState' = ctx.MkIntConst(sprintf \"Five-%d\" t')\n",
    "    let threeState' = ctx.MkIntConst(sprintf \"Three-%d\" t')\n",
    "\n",
    "    //Simple updates; do nothing, fill from tap, empty to ground\n",
    "    let doNothingFive = ctx.MkEq(fiveState,fiveState')\n",
    "    let doNothingThree = ctx.MkEq(threeState,threeState')\n",
    "    let fillFive = ctx.MkEq(fiveState',zFive)\n",
    "    let fillThree = ctx.MkEq(threeState',zThree)\n",
    "    let emptyFive = ctx.MkEq(fiveState',zZero)\n",
    "    let emptyThree = ctx.MkEq(threeState',zZero)\n",
    "\n",
    "    //Complex updates; fill three from five, fill five from three\n",
    "    //You can transfer only if one jug ends up full or empty\n",
    "    let transfer = ctx.MkEq(ctx.MkAdd(fiveState,threeState),ctx.MkAdd(fiveState',threeState'))\n",
    "\n",
    "    //List all of the possible updates, turn them into constraints, add them to the solver\n",
    "    let possibleUpdates = [|\n",
    "                            ctx.MkAnd(doNothingFive,fillThree)\n",
    "                            ctx.MkAnd(doNothingFive,emptyThree)\n",
    "                            ctx.MkAnd(fillFive,doNothingThree)\n",
    "                            ctx.MkAnd(emptyFive,doNothingThree)\n",
    "                            ctx.MkAnd(transfer,emptyFive)\n",
    "                            ctx.MkAnd(transfer,emptyThree)\n",
    "                            ctx.MkAnd(transfer,fillFive)\n",
    "                            ctx.MkAnd(transfer,fillThree)\n",
    "                            |]\n",
    "\n",
    "    let constraints = ctx.MkOr(possibleUpdates)\n",
    "    s.Add(constraints)"
   ]
  },
  {
   "cell_type": "markdown",
   "metadata": {},
   "source": [
    "## Initialising the model- assertUpdate\n",
    "\n",
    "We then initialise the model, by specifying how full the jugs are initially. Each jug starts off empty\n",
    "so we set the variables \"Five-0\" and \"Three-0\" to be equal to zero. \n",
    "\n",
    "We then define the transitions that the jugs can make according to the actions we can perform. \n",
    "This is done in the step function that asserts how the jugs update between two times, and the \n",
    "bounds of the jugs (i.e. the total amount of water they can hold). The update itself is specified\n",
    "in assertUpdate. We can do a limited number of things;\n",
    "\n",
    "* Empty each of the jugs (*emptyThree,emptyFive*)\n",
    "* Do nothing to each of the jugs (*doNothingThree,doNothingFive*)\n",
    "* Fill each of the jugs (*fillThree,fillFive*)\n",
    "* Transfer fluid from one jug to the other, leading to either one jug being filled or one emptied (*transfer*)\n",
    "\n",
    "In the last case the total volume of water must stay the same, and one of the jugs must be either\n",
    "emptied or filled. We can then add all of the different options to an \"Or\" expression, and add this \n",
    "as a constraint."
   ]
  },
  {
   "cell_type": "markdown",
   "metadata": {},
   "source": [
    "## Additional constraints- assertBounds\n",
    "\n",
    "Arguably we don't need it, but *assertBounds* ensures that the jugs stay in their defined limits. This may prevent certain bugs"
   ]
  },
  {
   "cell_type": "code",
   "execution_count": null,
   "metadata": {
    "collapsed": true
   },
   "outputs": [],
   "source": [
    "let assertBounds (ctx:Context) (s:Solver) t =\n",
    "    //Convienience integers\n",
    "    let zZero = ctx.MkInt(0)\n",
    "    let zFive = ctx.MkInt(5)\n",
    "    let zThree = ctx.MkInt(3)\n",
    "    //Create the variables\n",
    "    let fiveState = ctx.MkIntConst(sprintf \"Five-%d\" t)\n",
    "    let threeState = ctx.MkIntConst(sprintf \"Three-%d\" t)\n",
    "\n",
    "    let constraints = ctx.MkAnd([|\n",
    "                                    ctx.MkGe(fiveState,zZero)\n",
    "                                    ctx.MkLe(fiveState,zFive)\n",
    "                                    ctx.MkGe(threeState,zZero)\n",
    "                                    ctx.MkLe(threeState,zThree)\n",
    "                                    |])\n",
    "    s.Add(constraints)"
   ]
  },
  {
   "cell_type": "markdown",
   "metadata": {},
   "source": [
    "Finally we define functions that tie these together. Step asserts that between two given times, t and t', an action is taken"
   ]
  },
  {
   "cell_type": "code",
   "execution_count": null,
   "metadata": {
    "collapsed": true
   },
   "outputs": [],
   "source": [
    "let step ctx s t t' =\n",
    "    assertUpdate ctx s t t'\n",
    "    assertBounds ctx s t\n",
    "    assertBounds ctx s t'"
   ]
  },
  {
   "cell_type": "markdown",
   "metadata": {},
   "source": [
    "*setState* is a convienince function that allows us to specify the state of a system at a given time. This is important for defining the initial state, and the final state."
   ]
  },
  {
   "cell_type": "code",
   "execution_count": null,
   "metadata": {
    "collapsed": true
   },
   "outputs": [],
   "source": [
    "let setState (ctx:Context) (s:Solver) t (three:int) (five:int) = \n",
    "    //Convienience integers\n",
    "    let zThree = ctx.MkInt(three)\n",
    "    let zFive = ctx.MkInt(five)\n",
    "    //Create the variables\n",
    "    let fiveState = ctx.MkIntConst(sprintf \"Five-%d\" t)\n",
    "    let threeState = ctx.MkIntConst(sprintf \"Three-%d\" t)\n",
    "    let constraints = ctx.MkAnd([|\n",
    "                                    ctx.MkEq(fiveState,zFive)\n",
    "                                    ctx.MkEq(threeState,zThree)\n",
    "                                |])\n",
    "    s.Add(constraints)\n",
    "\n",
    "let initial ctx s t =\n",
    "    setState ctx s t 0 0\n",
    "let final (ctx:Context) (s:Solver) t = \n",
    "    let zFour = ctx.MkInt(4)\n",
    "    let fiveState = ctx.MkIntConst(sprintf \"Five-%d\" t)\n",
    "    s.Add(ctx.MkEq(fiveState,zFour))"
   ]
  },
  {
   "cell_type": "markdown",
   "metadata": {
    "collapsed": true
   },
   "source": [
    "To test different bounds we then then use a loop and add a new step for each turn of the loop, testing\n",
    "at each stage for a solution. If we run the main function with a maximum bound of 10 we can find a \n",
    "solution quickly, in only 6 steps! "
   ]
  },
  {
   "cell_type": "code",
   "execution_count": null,
   "metadata": {
    "collapsed": true
   },
   "outputs": [],
   "source": [
    "let main maxBound = \n",
    "    let ctx = new Context()\n",
    "    let s = ctx.MkSolver()\n",
    "    initial ctx s 0\n",
    "    let rec core i =\n",
    "        if i = maxBound then printf \"No results within bound of %d\\n\" maxBound else \n",
    "            step ctx s (i-1) i\n",
    "            s.Push()\n",
    "            final ctx s i\n",
    "            let r = s.Check()\n",
    "            match r with \n",
    "            | Status.UNSATISFIABLE ->\n",
    "                s.Pop()\n",
    "                printf \"Unsat- No answer with a bound of %d\\n\" i\n",
    "                core (i+1)\n",
    "            | Status.SATISFIABLE ->\n",
    "                s.Pop()\n",
    "                printf \"Sat- Got a result at bound %d\\n\" i\n",
    "                printf \"3Jug\\t5Jug\\n\"\n",
    "                for t=0 to i do\n",
    "                    let threeState = s.Model.ConstInterp(ctx.MkIntConst(sprintf \"Three-%d\" t))\n",
    "                    let fiveState = s.Model.ConstInterp(ctx.MkIntConst(sprintf \"Five-%d\" t))\n",
    "                    printf \"%O\\t%O\\n\" threeState fiveState\n",
    "            | _ -> failwith \"Unknown response from Z3\"\n",
    "    core 1"
   ]
  },
  {
   "cell_type": "code",
   "execution_count": null,
   "metadata": {},
   "outputs": [],
   "source": [
    "main 10"
   ]
  },
  {
   "cell_type": "markdown",
   "metadata": {},
   "source": [
    "## Exercises\n",
    "\n",
    "1. Now imagine that some updates are not allowed; for example, you couldn't empty the 3 litre jug without transferring the contents to the other jug. What happens to the solution if you prevent those from occuring? Modify the code to find out\n",
    "2. Within a small bound, are there any update types you must have?"
   ]
  },
  {
   "cell_type": "code",
   "execution_count": null,
   "metadata": {
    "collapsed": true
   },
   "outputs": [],
   "source": []
  }
 ],
 "metadata": {
  "kernelspec": {
   "display_name": "F#",
   "language": "fsharp",
   "name": "ifsharp"
  },
  "language": "fsharp",
  "language_info": {
   "codemirror_mode": "",
   "file_extension": ".fs",
   "mimetype": "text/x-fsharp",
   "name": "fsharp",
   "nbconvert_exporter": "",
   "pygments_lexer": "",
   "version": "4.3.1.0"
  }
 },
 "nbformat": 4,
 "nbformat_minor": 2
}
