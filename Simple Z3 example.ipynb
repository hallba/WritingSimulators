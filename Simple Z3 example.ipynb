{
 "cells": [
  {
   "cell_type": "markdown",
   "metadata": {
    "collapsed": true
   },
   "source": [
    "# Which number is bigger?\n",
    "\n",
    "In this example we will create an artificial problem to demonstrate different outputs from Z3. In this problem we have two variables, called A and B. Each variable is equal to either 1 or 2, and we want to know whether there are specific values each can have. The aim is to demonstrate how to do basic actions in Z3; creating variables, defining constraints, and asking a solver to find an assignment that is compatible. \n",
    "\n",
    "## Getting started\n",
    "\n",
    "In this section we will be using Z3 as a library. To start we will need to download the files if they are not already available. These first cells download Z3 as a zip, extract it, and load it into memory. We then reference the extracted file and open it as a module.\n",
    "\n",
    "** If the first cell does not run, manually download z3 from the link for your operating system and unzip it to a folder with the notebooks called \"z3\" **"
   ]
  },
  {
   "cell_type": "code",
   "execution_count": null,
   "metadata": {},
   "outputs": [],
   "source": [
    "#r \"System.IO.Compression.FileSystem.dll\"\n",
    "\n",
    "open System\n",
    "open System.IO\n",
    "open System.IO.Compression\n",
    "open System.Net\n",
    "\n",
    "//Specify Tls version to avoid cryptic connection errors\n",
    "System.Net.ServicePointManager.SecurityProtocol <- SecurityProtocolType.Tls12 ||| SecurityProtocolType.Tls11 \n",
    "\n",
    "let wc = new WebClient()\n",
    "\n",
    "type OS =\n",
    "        | OSX            \n",
    "        | Windows\n",
    "        | Linux\n",
    "\n",
    "let getOS = \n",
    "        match int Environment.OSVersion.Platform with\n",
    "        | 4 | 128 -> Linux\n",
    "        | 6       -> OSX\n",
    "        | _       -> Windows\n",
    "\n",
    "if  true <> System.IO.File.Exists(\"z3/LICENSE.txt\") then \n",
    "    match getOS with\n",
    "    | Linux ->  wc.DownloadFile(\"https://github.com/Z3Prover/z3/releases/download/z3-4.6.0/z3-4.6.0-x64-ubuntu-16.04.zip\", @\"z3.zip\")\n",
    "                //This will take a while\n",
    "                ZipFile.ExtractToDirectory(\"z3.zip\", \".\") \n",
    "                System.IO.Directory.Move(\"z3-4.6.0-x64-ubuntu-16.04\",\"z3\")\n",
    "    | Windows ->wc.DownloadFile(\"https://github.com/Z3Prover/z3/releases/download/z3-4.6.0/z3-4.6.0-x64-win.zip\", @\"z3.zip\")\n",
    "                //This will take a while\n",
    "                ZipFile.ExtractToDirectory(\"z3.zip\", \".\") \n",
    "                System.IO.Directory.Move(\"z3-4.6.0-x64-win\",\"z3\")\n",
    "\n",
    "    | _ -> ()"
   ]
  },
  {
   "cell_type": "code",
   "execution_count": null,
   "metadata": {},
   "outputs": [],
   "source": [
    "#r \"z3/bin/Microsoft.Z3.dll\""
   ]
  },
  {
   "cell_type": "code",
   "execution_count": null,
   "metadata": {},
   "outputs": [],
   "source": [
    "open Microsoft.Z3"
   ]
  },
  {
   "cell_type": "markdown",
   "metadata": {},
   "source": [
    "## Initiating Z3 and Defining variables \n",
    "\n",
    "The main function contains the basic constraints that define what A and B must be. However, to demonstrate the outputs from Z3 we have created three functions that include different final constraints.\n",
    "\n",
    "Firstly, we establish a context with the line"
   ]
  },
  {
   "cell_type": "code",
   "execution_count": null,
   "metadata": {
    "collapsed": true
   },
   "outputs": [],
   "source": [
    "let ctx = new Context()"
   ]
  },
  {
   "cell_type": "markdown",
   "metadata": {},
   "source": [
    "You can think of a context as a palette of different constraints and types you can use to describe your model. It provides the expressions you need to describe your model in an appropriate type for Z3. Typically programmers will wrap common functions for a context in dedicated functions to maintain commmon F# stylings, but in most of the tutorials here we use the context directly. In the Suduko example below we show how we can wrap the functions.\n",
    "\n",
    "We can then define elements using the context. We can define integer constant with the names \"A\" and \"B\" as"
   ]
  },
  {
   "cell_type": "code",
   "execution_count": null,
   "metadata": {
    "collapsed": true
   },
   "outputs": [],
   "source": [
    "let A = ctx.MkIntConst(\"A\")\n",
    "let B = ctx.MkIntConst(\"B\")"
   ]
  },
  {
   "cell_type": "markdown",
   "metadata": {},
   "source": [
    "This tells Z3 that A is a constant integer; we also want to specify that it is either equal to one or two. We need to specify these numbers through the context as below"
   ]
  },
  {
   "cell_type": "code",
   "execution_count": null,
   "metadata": {
    "collapsed": true
   },
   "outputs": [],
   "source": [
    "let zOne = ctx.MkInt(1)\n",
    "let zTwo = ctx.MkInt(2)"
   ]
  },
  {
   "cell_type": "markdown",
   "metadata": {},
   "source": [
    "## Defining and enforcing constraints\n",
    "We can now use these variables in F# to make more complex expressions involving them. We know that either A or B can be one or two, so we need to specify that in through Z3. "
   ]
  },
  {
   "cell_type": "code",
   "execution_count": null,
   "metadata": {
    "collapsed": true
   },
   "outputs": [],
   "source": [
    "let constraints = [|\n",
    "    ctx.MkOr([|ctx.MkEq(A,zOne);ctx.MkEq(A,zTwo)|]);\n",
    "    ctx.MkOr([|ctx.MkEq(B,zOne);ctx.MkEq(B,zTwo)|]);\n",
    "    |]"
   ]
  },
  {
   "cell_type": "markdown",
   "metadata": {},
   "source": [
    "This array contains a line that states that A=1 using MkEq, or A=2 using the variables we have previously defined. We put this term, and another term referencing B into an array called constraints.\n",
    "\n",
    "These constraints define the problem, but we need to tell Z3 to use them. To do this we need a Solver, to which we add the constraints before asking for a solution. We create a solver, then add that all constraints must in the array must be respected by using an \"And\" term"
   ]
  },
  {
   "cell_type": "code",
   "execution_count": null,
   "metadata": {
    "collapsed": true
   },
   "outputs": [],
   "source": [
    "let s = ctx.MkSolver()\n",
    "s.Add(ctx.MkAnd(constraints))"
   ]
  },
  {
   "cell_type": "markdown",
   "metadata": {},
   "source": [
    "## Testing models\n",
    "\n",
    "Now we can start testing! Three functions run different tests-\n",
    "\n",
    "* *sanity_check* doesn't add anything but shows that the model is sound\n",
    "* *paradox* adds constraints that cannot be satisfied and should show that\n",
    "* *answer* addresses a \"real\" question- if A is less than B, is there a solution?\n"
   ]
  },
  {
   "cell_type": "code",
   "execution_count": null,
   "metadata": {
    "collapsed": true
   },
   "outputs": [],
   "source": [
    "let sanity_check (ctx:Context) (s:Solver) (v:IntExpr []) =\n",
    "    s.Push()\n",
    "    let r = s.Check()\n",
    "    match r with \n",
    "    | Status.UNSATISFIABLE ->\n",
    "        s.Pop()\n",
    "        sprintf \"FAIL sanity test- unsat\\n\"\n",
    "    | Status.SATISFIABLE -> \n",
    "        let a = sprintf \"PASS sanity test\\nA %O B %O\\n\" (s.Model.ConstInterp(v.[0])) (s.Model.ConstInterp(v.[1]))\n",
    "        s.Pop()\n",
    "        a\n",
    "    | _ -> failwith \"Unknown fail\"\n",
    "\n",
    "let paradox (ctx:Context) (s:Solver) (variables:IntExpr []) =\n",
    "    s.Push()\n",
    "    let additionalConstraints = [|ctx.MkAnd([|ctx.MkEq(variables.[0],ctx.MkInt(2));ctx.MkEq(variables.[0],ctx.MkInt(1))|])|]\n",
    "    s.Add(additionalConstraints)\n",
    "    let r = s.Check()\n",
    "    match r with \n",
    "    | Status.UNSATISFIABLE ->\n",
    "        s.Pop()\n",
    "        sprintf \"PASS paradox test- unsat\\n\"\n",
    "    | Status.SATISFIABLE -> \n",
    "         let result = sprintf \"FAIL sanity test\\nA %O B %O\\n\" (s.Model.ConstInterp(variables.[0])) (s.Model.ConstInterp(variables.[1]))\n",
    "         s.Pop()\n",
    "         result\n",
    "    | _ -> failwith \"Unknown fail\"\n",
    "\n",
    "let answer (ctx:Context) (s:Solver) (variables:IntExpr []) =\n",
    "    s.Push()\n",
    "    let additionalConstraints = [|ctx.MkLt(variables.[0],variables.[1])|]\n",
    "    s.Add(additionalConstraints)\n",
    "    let r = s.Check()\n",
    "    match r with \n",
    "    | Status.UNSATISFIABLE ->\n",
    "        s.Pop()\n",
    "        \"No answer- unsat\\n\"\n",
    "    | Status.SATISFIABLE -> \n",
    "        let aState = s.Model.ConstInterp(variables.[0])\n",
    "        let bState = s.Model.ConstInterp(variables.[1])\n",
    "        let result = sprintf  \"Answer- sat\\nA %O B %O\\n\" aState bState\n",
    "        s.Add (ctx.MkNot(ctx.MkAnd(ctx.MkEq(variables.[0],aState),ctx.MkEq(variables.[1],bState))))\n",
    "        let r' = s.Check()\n",
    "        match r' with\n",
    "        | Status.UNSATISFIABLE ->\n",
    "            s.Pop()\n",
    "            result + \"No other solutions\\n\"\n",
    "        | Status.SATISFIABLE ->\n",
    "            s.Pop()\n",
    "            result + (sprintf \"Alternative answer\\nA %O B %O\\n\" (s.Model.ConstInterp(variables.[0])) (s.Model.ConstInterp(variables.[1])))\n",
    "        | _ -> failwith \"Unknown fail\"\n",
    "    | _ -> failwith \"Unknown fail\""
   ]
  },
  {
   "cell_type": "markdown",
   "metadata": {},
   "source": [
    "In each case we copy the solver, test the model, and then throw away the results. This allows us to add different, contradictory constraints without altering the other questions. To do this, we run three commands\n",
    "\n",
    "* s.Push()\n",
    "> Copies the system. Any new constraints you add will only be added to the copy, and any tests you perform will only be done on the working copy.\n",
    "\n",
    "* s.Check()\n",
    "> Asks Z3 to return an answer. The result can be tested using pattern matching as satisfiable (there is a solution), unsatisfiable (there is no solution) or unknown (something went wrong).\n",
    "\n",
    "* s.Pop()\n",
    "> Discards the working copy and reverts to the original copy.\n",
    "\n",
    "Looking in sanity_check we copy the model, and test without adding any additional constraints. We then test the result and find that it is satisfiable. We then draw out the solution using\n",
    "\n",
    "s.Model.ConstInterp\n",
    "We can then print this to the terminal before discarding the result.\n",
    "\n",
    "The function paradox is similar, but we add an additional, impossible to satisfy constraint\n",
    "\n",
    "ctx.MkAnd([|ctx.MkEq(variables.[0],ctx.MkInt(2));ctx.MkEq(variables.[0],ctx.MkInt(1))|])\n",
    "This says that A is equal to 2 and A is equal to 1. We then test, and should find that the result is unsatisfiable.\n",
    "\n",
    "Finally the function answer adds a constraint that specifies that A is less than B. We can then retest and find the solution. MkLt is the expression used, meaning make less than (i.e. <), and there are other functions like MkLe (make less than or equal), MkGt, and MkGe.\n",
    "\n",
    "ctx.MkLt(variables.[0],variables.[1])\n",
    "Note that because we have used Push() and Pop() in each function, the constraints in paradox and answer functions do not clash; in each case we have only added them to a working copy that is discarded at the end of the work.\n",
    "\n",
    "We do a further test in answer; we look at the solution that Check() gives us, and ask for an alternative answer. This is done by adding a further constraint to the solver, excluding the observed result from the solver, and running Check() again.\n",
    "\n",
    "Finally, we run each of these checks and examine the outcome"
   ]
  },
  {
   "cell_type": "code",
   "execution_count": null,
   "metadata": {},
   "outputs": [],
   "source": [
    "//Must be satisfiable\n",
    "printf \"%s\" (sanity_check ctx s [|A;B|])\n",
    "//Paradox- must not be satisfiable\n",
    "printf \"%s\" (paradox ctx s [|A;B|])\n",
    "//A is less than B- What is the answer?\n",
    "printf \"%s\" (answer ctx s [|A;B|])"
   ]
  },
  {
   "cell_type": "code",
   "execution_count": null,
   "metadata": {
    "collapsed": true
   },
   "outputs": [],
   "source": []
  }
 ],
 "metadata": {
  "kernelspec": {
   "display_name": "F#",
   "language": "fsharp",
   "name": "ifsharp"
  },
  "language": "fsharp",
  "language_info": {
   "codemirror_mode": "",
   "file_extension": ".fs",
   "mimetype": "text/x-fsharp",
   "name": "fsharp",
   "nbconvert_exporter": "",
   "pygments_lexer": "",
   "version": "4.3.1.0"
  }
 },
 "nbformat": 4,
 "nbformat_minor": 2
}
