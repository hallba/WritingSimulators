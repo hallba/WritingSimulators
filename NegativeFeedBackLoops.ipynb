{
 "cells": [
  {
   "cell_type": "markdown",
   "metadata": {
    "collapsed": true
   },
   "source": [
    "# Proving stability of a Boolean network motif\n",
    "Stability in a biological system is defined as the presence of a single fix point and no cycles (that is loops with more than one state). It can be thought of as a measure of robustness; if you believe your model represents a homoestatic system, or a system at equilibrium, we can use stability as a way to test that the model is sound. This was discussed in the previous practical about using the BMA, and Z3 is used in the BMA to prove stability in cases where the default algorithm cannot (i.e. when you are using \"Further Testing\").\n",
    "\n",
    "Here we will test a small Boolean network model representing \"perfect adaption\"- a negative feed forward loop. In this case we are modelling it as a deterministic system; all variables update at the same time. Furthermore, we are modelling it with a constant \"on\" input.\n",
    "\n",
    "\n",
    "## Getting started\n",
    "In this section we will be using Z3 as a library. To start we will need to download the files if they are not already available. These first cells download Z3 as a zip, extract it, and load it into memory. We then reference the extracted file and open it as a module.\n",
    "\n",
    "** If the first cell does not run, manually download z3 from the link for your operating system and unzip it to a folder with the notebooks called \"z3\" **"
   ]
  },
  {
   "cell_type": "code",
   "execution_count": null,
   "metadata": {
    "collapsed": true
   },
   "outputs": [],
   "source": [
    "#r \"System.IO.Compression.FileSystem.dll\"\n",
    "\n",
    "open System\n",
    "open System.IO\n",
    "open System.IO.Compression\n",
    "open System.Net\n",
    "//Specify Tls version to avoid cryptic connection errors\n",
    "System.Net.ServicePointManager.SecurityProtocol <- SecurityProtocolType.Tls12 ||| SecurityProtocolType.Tls11 \n",
    "\n",
    "let wc = new WebClient()\n",
    "\n",
    "type OS =\n",
    "        | OSX            \n",
    "        | Windows\n",
    "        | Linux\n",
    "\n",
    "let getOS = \n",
    "        match int Environment.OSVersion.Platform with\n",
    "        | 4 | 128 -> Linux\n",
    "        | 6       -> OSX\n",
    "        | _       -> Windows\n",
    "\n",
    "if  true <> System.IO.File.Exists(\"z3/LICENSE.txt\") then \n",
    "    match getOS with\n",
    "    | Linux ->  wc.DownloadFile(\"https://github.com/Z3Prover/z3/releases/download/z3-4.6.0/z3-4.6.0-x64-ubuntu-16.04.zip\", @\"z3.zip\")\n",
    "                //This will take a while\n",
    "                ZipFile.ExtractToDirectory(\"z3.zip\", \".\") \n",
    "                System.IO.Directory.Move(\"z3-4.6.0-x64-ubuntu-16.04\",\"z3\")\n",
    "    | Windows ->wc.DownloadFile(\"https://github.com/Z3Prover/z3/releases/download/z3-4.6.0/z3-4.6.0-x64-win.zip\", @\"z3.zip\")\n",
    "                //This will take a while\n",
    "                ZipFile.ExtractToDirectory(\"z3.zip\", \".\") \n",
    "                System.IO.Directory.Move(\"z3-4.6.0-x64-win\",\"z3\")\n",
    "\n",
    "    | _ -> ()"
   ]
  },
  {
   "cell_type": "code",
   "execution_count": null,
   "metadata": {
    "collapsed": true
   },
   "outputs": [],
   "source": [
    "#r \"z3/bin/Microsoft.Z3.dll\""
   ]
  },
  {
   "cell_type": "code",
   "execution_count": null,
   "metadata": {
    "collapsed": true
   },
   "outputs": [],
   "source": [
    "open Microsoft.Z3"
   ]
  },
  {
   "attachments": {
    "image.png": {
     "image/png": "[encoded data removed]"
    }
   },
   "cell_type": "markdown",
   "metadata": {},
   "source": [
    "## Variables and transitions\n",
    "\n",
    "A convience function defines a new variable for Z3- *makeVariable*- based on a name (string), and a time.\n",
    "\n",
    "![image.png](attachment:image.png)\n",
    "\n",
    "How different variables update is specified in the step function. The step function is given two times and defines new constraints, before adding them to the solver. According to the graph above, Input is constantly True or False, so the constraint *update'* specifies its state. The next state of A (at t') is set to the current state of Input (at t). B has a similar dependency on A. The output node is more complex- it is true in the next step if and only if A is true and B is false. These constraints are constructed using a \"And\" term (conjuction). Finally the constraints are added to the solver.\n",
    "\n"
   ]
  },
  {
   "cell_type": "code",
   "execution_count": null,
   "metadata": {
    "collapsed": true
   },
   "outputs": [],
   "source": [
    "let makeVariable (ctx:Context) name time =\n",
    "    ctx.MkBoolConst(sprintf \"%s-%d\" name time)\n",
    "\n",
    "let step (ctx:Context) (s:Solver) t t' = \n",
    "    //Update input \n",
    "    let input' = ctx.MkEq((makeVariable ctx \"Input\" t'),ctx.MkTrue())\n",
    "    //Update A \n",
    "    let a' = ctx.MkEq((makeVariable ctx \"A\" t'),(makeVariable ctx \"Input\" t))\n",
    "    //Update B\n",
    "    let b' = ctx.MkEq((makeVariable ctx \"B\" t'),(makeVariable ctx \"A\" t))\n",
    "    //Update Output\n",
    "    let output' =   ctx.MkAnd(  [|\n",
    "                                ctx.MkImplies(ctx.MkEq((makeVariable ctx \"A\" t),(ctx.MkFalse())),ctx.MkEq((makeVariable ctx \"Output\" t'),ctx.MkFalse()))\n",
    "                                ctx.MkImplies(ctx.MkAnd(ctx.MkEq((makeVariable ctx \"A\" t),ctx.MkTrue()),ctx.MkEq((makeVariable ctx \"B\" t),(ctx.MkFalse()))),ctx.MkEq((makeVariable ctx \"Output\" t'),ctx.MkTrue()))\n",
    "                                ctx.MkImplies(ctx.MkAnd(ctx.MkEq((makeVariable ctx \"A\" t),ctx.MkTrue()),ctx.MkEq((makeVariable ctx \"B\" t),(ctx.MkTrue()))),ctx.MkEq((makeVariable ctx \"Output\" t'),ctx.MkFalse()))\n",
    "                                |]  )\n",
    "    s.Add(ctx.MkAnd([|input'; a'; b'; output'|]))"
   ]
  },
  {
   "cell_type": "markdown",
   "metadata": {},
   "source": [
    "## Searching for stability- finding a single fixpoint\n",
    "\n",
    "Once the transitions are defined we can start searching for the endpoints of the system. Firstly, we need to find a single fix point. If there isn't one, we can be sure that the model is unstable; however we would still need to find the cycle to be sure. To find a fix point we can specify a step where the time is the same; this effectively constrains the system to the set states that are self loops. The first answer is one fix point, but we need to know that this fix point is unique. After finding an initial solution we can then exclude this solution with a new constraint, defeined with the function *excludeState* and repeat the Check(). If this call is not satisfiable then we can be sure that there is no bifurcation in the system. It's worth noting that searching for fix points is relatively quick."
   ]
  },
  {
   "cell_type": "code",
   "execution_count": null,
   "metadata": {
    "collapsed": true
   },
   "outputs": [],
   "source": [
    "type result = Bifurcation | NoBifurcation | Cycle | Stable "
   ]
  },
  {
   "cell_type": "code",
   "execution_count": null,
   "metadata": {
    "collapsed": true
   },
   "outputs": [],
   "source": [
    "let excludeState (ctx:Context) (s:Solver) t =\n",
    "    s.Add(ctx.MkNot(ctx.MkAnd(\n",
    "                                [|\n",
    "                                ctx.MkEq(s.Model.Eval(makeVariable ctx \"Input\" t),makeVariable ctx \"Input\" t)\n",
    "                                ctx.MkEq(s.Model.Eval(makeVariable ctx \"A\" t),makeVariable ctx \"A\" t)\n",
    "                                ctx.MkEq(s.Model.Eval(makeVariable ctx \"B\" t),makeVariable ctx \"B\" t)\n",
    "                                ctx.MkEq(s.Model.Eval(makeVariable ctx \"Output\" t),makeVariable ctx \"Output\" t)\n",
    "                                |]\n",
    "    )))\n",
    "\n",
    "\n",
    "let findFixpoints _ =\n",
    "    let ctx = new Context()    \n",
    "    let s = ctx.MkSolver()\n",
    "    step ctx s 0 0\n",
    "    match s.Check() with\n",
    "    | Status.SATISFIABLE -> printf \"Found Fixpoint\\n\"\n",
    "                            ignore(List.map (fun name -> printf \"%s:\\t%O\\n\" name (s.Model.Eval(makeVariable ctx name 0)) ) [\"Input\";\"A\";\"B\";\"Output\"])\n",
    "                            excludeState ctx s 0\n",
    "                            match s.Check() with\n",
    "                            | Status.UNSATISFIABLE -> printf \"Only a single fixpoint\\n\"; NoBifurcation\n",
    "                            | Status.SATISFIABLE -> printf \"Found bifurcation\\n\"; Bifurcation\n",
    "                            | _ -> failwith \"Unknown result from Z3\"\n",
    "    | Status.UNSATISFIABLE -> printf \"No fixpoints\\n\"; NoBifurcation\n",
    "    | _ -> failwith \"Unknown result from fixpoint search\""
   ]
  },
  {
   "cell_type": "markdown",
   "metadata": {},
   "source": [
    "## Searching for stability- finding a cycle\n",
    "\n",
    "The next stage is to search for cycles. We need to show that there are no cycles in the system, up to the maximum bound of the system to know that the model is stable. There are 16 states in the system (2^4) so we can use that as the maximum bound (this would not necessarily hold in an asynchronous system). To search for cycles\n",
    "\n",
    "* We use a loop to increment the number of steps from 0 up to the current bound\n",
    "* We add a constraints that the states at time 0 and time 1 are not the same (i.e. the last states are not a fixpoint)\n",
    "* We add a constraint that the initial state and the final state are the same\n",
    "\n",
    "We can then run repeated checks up to the bound of the system. Once the bound is reached, we can be confident that there are no cycles."
   ]
  },
  {
   "cell_type": "code",
   "execution_count": null,
   "metadata": {
    "collapsed": true
   },
   "outputs": [],
   "source": [
    "let statesEqual (ctx:Context) t t' =\n",
    "    ctx.MkAnd(\n",
    "        [|\n",
    "        ctx.MkEq(makeVariable ctx \"Input\" t',makeVariable ctx \"Input\" t)\n",
    "        ctx.MkEq(makeVariable ctx \"A\" t',makeVariable ctx \"A\" t)\n",
    "        ctx.MkEq(makeVariable ctx \"B\" t',makeVariable ctx \"B\" t)\n",
    "        ctx.MkEq(makeVariable ctx \"Output\" t',makeVariable ctx \"Output\" t)\n",
    "        |]\n",
    "    )\n",
    "\n",
    "let statesAreEqual ctx (s:Solver) t t' = \n",
    "    s.Add(statesEqual ctx t t')\n",
    "let statesAreNotEqual (ctx:Context) (s:Solver) t t' =\n",
    "    s.Add(ctx.MkNot(statesEqual ctx t t'))\n",
    "\n",
    "let findCycles bound =\n",
    "    let ctx = new Context()\n",
    "    let s = ctx.MkSolver()\n",
    "    printf \"Searching for cycles at bound\"\n",
    "    let rec core i bound =\n",
    "        printf \"...%d\" i;\n",
    "        step ctx s (i-1) i\n",
    "        s.Push()\n",
    "        //Need to assert that first state is not a fixpoint\n",
    "        statesAreNotEqual ctx s 0 1\n",
    "        statesAreEqual ctx s 0 i\n",
    "        match s.Check() with \n",
    "        | Status.SATISFIABLE -> printf \"Found cycle of length %d\\n\" i; Cycle\n",
    "        | Status.UNSATISFIABLE -> s.Pop(); if i < bound then core (i+1) bound else printf \"\\n\"; Stable\n",
    "        | _ -> failwith \"Unknown result\"\n",
    "    core 1 bound"
   ]
  },
  {
   "cell_type": "markdown",
   "metadata": {},
   "source": [
    "## Main\n",
    "\n",
    "Finally, run the functions! \n",
    "\n",
    "Run the fast test for bifurcation first (so if you find it, you can avoid the slow cycle search)."
   ]
  },
  {
   "cell_type": "code",
   "execution_count": null,
   "metadata": {
    "collapsed": true
   },
   "outputs": [],
   "source": [
    "let main _ = \n",
    "    match findFixpoints () with\n",
    "    | Bifurcation -> ()\n",
    "    | _ -> match findCycles 16 with\n",
    "            | Cycle -> ()\n",
    "            | Stable -> printf \"Model is stable!\\n\"\n",
    "            | _ -> failwith \"problem- error\""
   ]
  },
  {
   "cell_type": "code",
   "execution_count": null,
   "metadata": {},
   "outputs": [],
   "source": [
    "main ()"
   ]
  },
  {
   "attachments": {
    "image.png": {
     "image/png": "[encoded data removed]"
    }
   },
   "cell_type": "markdown",
   "metadata": {},
   "source": [
    "# Exercises\n",
    "\n",
    "1. Modify the model so that the input is constantly high, and retest. Whats the result? Does it match with what you expect?\n",
    "2. Modify *step* function to change the network from a negative feedforward loop to a negative feedback loop i.e. ![image.png](attachment:image.png). Test its stability with high and low inputs; what do you find, and is it correct?\n",
    "3. Model checking like this can be optimised by adding new tests or adding additional constraints. The cycle search is slow because it searches up to the boundary of the system. In this case its 16, but for more complex networks it can be intractably large. One optimisation that the BMA has is to test whether a simulation of a given length exists and finishing the loop early. Try add this to the cycle searching code.\n",
    "4. If the system was *asynchronous*, which parts of the code would have to be kept and which parts would need to be replaced? Where possible, suggest how you would modify the functions.\n",
    "5. Write an *asynchonous* update function and a function that finds a simulation of length 5 using it"
   ]
  },
  {
   "cell_type": "code",
   "execution_count": null,
   "metadata": {
    "collapsed": true
   },
   "outputs": [],
   "source": []
  }
 ],
 "metadata": {
  "kernelspec": {
   "display_name": "F#",
   "language": "fsharp",
   "name": "ifsharp"
  },
  "language": "fsharp",
  "language_info": {
   "codemirror_mode": "",
   "file_extension": ".fs",
   "mimetype": "text/x-fsharp",
   "name": "fsharp",
   "nbconvert_exporter": "",
   "pygments_lexer": "",
   "version": "4.3.1.0"
  }
 },
 "nbformat": 4,
 "nbformat_minor": 2
}
